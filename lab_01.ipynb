{
 "cells": [
  {
   "cell_type": "markdown",
   "metadata": {},
   "source": [
    "# 1 практическое задание. Обучение полносвязной нейронной сети.\n",
    "\n",
    "## Практикум на ЭВМ для 317 группы, весна 2019\n",
    "\n",
    "#### Фамилия, имя: Петренко Дарья\n",
    "\n",
    "Дата выдачи: 19 февраля\n",
    "\n",
    "Мягкий дедлайн: 28 февраля 23:59 "
   ]
  },
  {
   "cell_type": "code",
   "execution_count": 14,
   "metadata": {},
   "outputs": [],
   "source": [
    "import numpy as np"
   ]
  },
  {
   "cell_type": "markdown",
   "metadata": {},
   "source": [
    "## Реализация нейронной сети (6 баллов)"
   ]
  },
  {
   "cell_type": "markdown",
   "metadata": {},
   "source": [
    "В этом задании вы обучите полносвязную нейронную сеть распознавать рукописные цифры (а что же еще, если не их :), [почти] самостоятельно реализовав все составляющие алгоритма обучения и предсказания.\n",
    "\n",
    "Для начала нам понадобится реализовать прямой и обратный проход через слои. Наши слои будут соответствовать следующему интерфейсу (на примере \"тождественного\" слоя):"
   ]
  },
  {
   "cell_type": "code",
   "execution_count": 15,
   "metadata": {},
   "outputs": [],
   "source": [
    "class IdentityLayer:\n",
    "    \"\"\"\n",
    "    A building block. Each layer is capable of performing two things:\n",
    "    \n",
    "    - Process input to get output:           \n",
    "    output = layer.forward(input)\n",
    "    \n",
    "    - Propagate gradients through itself:    \n",
    "    grad_input = layer.backward(input, grad_output)\n",
    "    \n",
    "    Some layers also have learnable parameters.\n",
    "    \n",
    "    Modified code from cs.hse DL course *\n",
    "    \"\"\"\n",
    "    def __init__(self):\n",
    "        \"\"\"Here you can initialize layer parameters (if any) \n",
    "        and auxiliary stuff. You should enumerate all parameters\n",
    "        in self.params\"\"\"\n",
    "        # An identity layer does nothing\n",
    "        self.params = []\n",
    "        pass\n",
    "    \n",
    "    def forward(self, input):\n",
    "        \"\"\"\n",
    "        Takes input data of shape [batch, input_units], \n",
    "        returns output data [batch, output_units]\n",
    "        \"\"\"\n",
    "        # An identity layer just returns whatever it gets as input.\n",
    "        self.input = input\n",
    "        return input\n",
    "\n",
    "    def backward(self, grad_output): \n",
    "        \"\"\"\n",
    "        Performs a backpropagation step through the layer, \n",
    "        with respect to the given input.\n",
    "        \n",
    "        To compute loss gradients w.r.t input, \n",
    "        you need to apply chain rule (backprop):\n",
    "        \n",
    "        d loss / d input  = (d loss / d layer) *  (d layer / d input)\n",
    "        \n",
    "        Luckily, you already receive d loss / d layer as input, \n",
    "        so you only need to multiply it by d layer / d x.\n",
    "        \n",
    "        The method returns:\n",
    "        * gradient w.r.t input (will be passed to \n",
    "          previous layer's backward method)\n",
    "        * flattened gradient w.r.t. parameters (with .ravel() \n",
    "          applied to each gradient). \n",
    "          If there are no params, return []\n",
    "        \"\"\"\n",
    "        # The gradient of an identity layer is precisely grad_output\n",
    "        input_dim = self.input.shape[1]\n",
    "        \n",
    "        d_layer_d_input = np.eye(input_dim)\n",
    "        \n",
    "        return np.dot(grad_output, d_layer_d_input), [] # chain rule"
   ]
  },
  {
   "cell_type": "markdown",
   "metadata": {},
   "source": [
    "### Слой нелинейности ReLU\n",
    "\n",
    "Для начала реализуем слой нелинейности $ReLU(x) = max(x, 0)$. Параметров у слоя нет. Метод forward должен вернуть результат поэлементного применения ReLU к входному массиву, метод backward - градиент функции потерь по входу слоя. В нуле будем считать производную равной 0. Обратите внимание, что при обратном проходе могут понадобиться величины, посчитанные во время прямого прохода, поэтому их стоит сохранить как атрибут класса."
   ]
  },
  {
   "cell_type": "code",
   "execution_count": 16,
   "metadata": {},
   "outputs": [],
   "source": [
    "class ReLU:\n",
    "    \"\"\"\n",
    "    Modified code from cs.hse DL course *\n",
    "    \"\"\"\n",
    "    def __init__(self):\n",
    "        \"\"\"ReLU layer simply applies elementwise rectified linear unit to all inputs\"\"\"\n",
    "        self.params = [] # ReLU has no parameters\n",
    "    \n",
    "    def forward(self, input):\n",
    "        \"\"\"Apply elementwise ReLU to [batch, num_units] matrix\"\"\"\n",
    "        self.input = input\n",
    "        zero_matrix = np.zeros(np.shape(input))\n",
    "        self.forward_matrix = np.maximum(input, zero_matrix)\n",
    "        return self.forward_matrix \n",
    "        \n",
    "    \n",
    "    def backward(self, grad_output):\n",
    "        \"\"\"Compute gradient of loss w.r.t. ReLU input\n",
    "        grad_output shape: [batch, num_units]\n",
    "        output 1 shape: [batch, num_units]\n",
    "        output 2: []\n",
    "        \"\"\"\n",
    "        d_layer_d_input = self.forward_matrix != 0\n",
    "        return grad_output * d_layer_d_input, []"
   ]
  },
  {
   "cell_type": "markdown",
   "metadata": {},
   "source": [
    "### Полносвязный слой\n",
    "Далее реализуем полносвязный слой без нелинейности. У слоя два параметра: матрица весов и вектор сдвига.\n",
    "\n",
    "Обратите внимание на второй аргумент: в нем надо возвращать градиент по всем параметрам в одномерном виде. Для этого надо сначала применить .ravel() ко всем градиентам, а затем воспользоваться  np.r_:"
   ]
  },
  {
   "cell_type": "code",
   "execution_count": 17,
   "metadata": {},
   "outputs": [
    {
     "data": {
      "text/plain": [
       "array([1., 0., 0., 0., 1., 0., 0., 0., 1., 0., 1., 2., 3.])"
      ]
     },
     "execution_count": 17,
     "metadata": {},
     "output_type": "execute_result"
    }
   ],
   "source": [
    "# example\n",
    "np.r_[np.eye(3).ravel(), np.arange(4)]"
   ]
  },
  {
   "cell_type": "code",
   "execution_count": 18,
   "metadata": {},
   "outputs": [],
   "source": [
    "class Dense:\n",
    "    \"\"\"\n",
    "    Modified code from cs.hse DL course *\n",
    "    \"\"\"\n",
    "    def __init__(self, input_units, output_units):\n",
    "        \"\"\"\n",
    "        A dense layer is a layer which performs a learned affine transformation:\n",
    "        f(x) = W x + b\n",
    "        \"\"\"\n",
    "        # initialize weights with small random numbers from normal distribution\n",
    "        #self.weights = np.random.randn(input_units, output_units)*0.01\n",
    "        self.weights = np.random.normal(loc=0.0, scale=(2/(input_units+output_units)), size=(input_units, output_units) )\n",
    "        self.biases = np.zeros(output_units)\n",
    "        self.params = [self.weights, self.biases]\n",
    "        \n",
    "    def forward(self,input):\n",
    "        \"\"\"\n",
    "        Perform an affine transformation:\n",
    "        f(x) = W x + b\n",
    "        \n",
    "        input shape: [batch, input_units]\n",
    "        output shape: [batch, output units]\n",
    "        \"\"\"\n",
    "        self.input = input\n",
    "        self.forward_matrix = np.dot(input, self.weights) + self.biases[np.newaxis, :]\n",
    "        return self.forward_matrix\n",
    "        \n",
    "    \n",
    "    def backward(self, grad_output):\n",
    "        \"\"\"\n",
    "        compute gradients\n",
    "        grad_output shape: [batch, output_units]\n",
    "        output shapes: [batch, input_units], [num_params]\n",
    "        \n",
    "        hint: use function np.r_\n",
    "        np.r_[np.arange(3), np.arange(3)] = [0, 1, 2, 0, 1, 2]\n",
    "        \"\"\"\n",
    "        d_loss_d_w = np.dot(np.transpose(self.input), grad_output)\n",
    "        d_loss_d_b = np.dot(np.ones(np.size(grad_output, 0))[np.newaxis, :], grad_output)\n",
    "        d_loss_d_input = np.dot(grad_output, np.transpose(self.weights))\n",
    "        return d_loss_d_input, np.r_[d_loss_d_w.ravel(), d_loss_d_b.ravel()]"
   ]
  },
  {
   "cell_type": "markdown",
   "metadata": {},
   "source": [
    "### Проверка градиента\n",
    "\n",
    "Проверим правильность реализации с помощью функции численной проверки градиента. Функция берет на вход callable объект (функцию от одного аргумента-матрицы) и аргумент и вычисляет приближенный градиент функции в этой точке."
   ]
  },
  {
   "cell_type": "code",
   "execution_count": 19,
   "metadata": {},
   "outputs": [],
   "source": [
    "def eval_numerical_gradient(f, x, verbose=False, h=0.00001):\n",
    "    \"\"\"Evaluates gradient df/dx via finite differences:\n",
    "    df/dx ~ (f(x+h) - f(x-h)) / 2h\n",
    "    Adopted from https://github.com/ddtm/dl-course/\n",
    "    \"\"\"\n",
    "    fx = f(x) # evaluate function value at original point\n",
    "    grad = np.zeros_like(x)\n",
    "    # iterate over all indexes in x\n",
    "    it = np.nditer(x, flags=['multi_index'], op_flags=['readwrite'])\n",
    "    while not it.finished:\n",
    "\n",
    "        # evaluate function at x+h\n",
    "        ix = it.multi_index\n",
    "        oldval = x[ix]\n",
    "        x[ix] = oldval + h # increment by h\n",
    "        fxph = f(x) # evalute f(x + h)\n",
    "        x[ix] = oldval - h\n",
    "        fxmh = f(x) # evaluate f(x - h)\n",
    "        x[ix] = oldval # restore\n",
    "\n",
    "        # compute the partial derivative with centered formula\n",
    "        grad[ix] = (fxph - fxmh) / (2 * h) # the slope\n",
    "        if verbose:\n",
    "            print (ix, grad[ix])\n",
    "        it.iternext() # step to next dimension\n",
    "\n",
    "    return grad"
   ]
  },
  {
   "cell_type": "markdown",
   "metadata": {},
   "source": [
    "Вычислите аналитический и численный градиенты по входу слоя ReLU от функции\n",
    "$$ f(y) = \\sum_i y_i, \\quad y = ReLU(x) $$\n",
    "\n",
    "Следующая ячейка после заполнения должна не выдавать ошибку :)"
   ]
  },
  {
   "cell_type": "code",
   "execution_count": 20,
   "metadata": {},
   "outputs": [],
   "source": [
    "points = np.linspace(-1, 1, 10*12).reshape([10, 12])\n",
    "\n",
    "def func(x):\n",
    "    zero_matrix = np.zeros(np.shape(x))\n",
    "    y = np.maximum(x, zero_matrix)\n",
    "    return np.sum(y)\n",
    "\n",
    "d_loss_d_layer = np.ones(np.shape(points))\n",
    "relu = ReLU()\n",
    "relu.forward(points)\n",
    "grads = relu.backward(d_loss_d_layer)[0]\n",
    "numeric_grads = eval_numerical_gradient(func, points)\n",
    "\n",
    "assert np.allclose(grads, numeric_grads, rtol=1e-3, atol=0)"
   ]
  },
  {
   "cell_type": "markdown",
   "metadata": {},
   "source": [
    "Вычислите аналитический и численный градиенты по входу полносвязного слоя от функции\n",
    "$$ f(y) = \\sum_i y_i, \\quad y = W x + b $$"
   ]
  },
  {
   "cell_type": "code",
   "execution_count": 21,
   "metadata": {},
   "outputs": [],
   "source": [
    "x = np.linspace(-1, 1, 10*12).reshape([10, 12])\n",
    "dense = Dense(12, 32,)\n",
    "\n",
    "def func(x):\n",
    "    w = dense.weights\n",
    "    b = dense.biases\n",
    "    y = np.dot(x, w) + b[np.newaxis, :]\n",
    "    return np.sum(y)\n",
    "    \n",
    "d_loss_d_layer = np.ones((np.size(x, 0), 32))\n",
    "dense.forward(x)\n",
    "grads = dense.backward(d_loss_d_layer)[0]\n",
    "\n",
    "numeric_grads = eval_numerical_gradient(func, x)\n",
    "\n",
    "assert np.allclose(grads, numeric_grads, rtol=1e-3, atol=0)"
   ]
  },
  {
   "cell_type": "markdown",
   "metadata": {},
   "source": [
    "### Реализация softmax-слоя и функции потерь"
   ]
  },
  {
   "cell_type": "markdown",
   "metadata": {},
   "source": [
    "Для решения задачи многоклассовой классификации обычно используют softmax в качестве нелинейности на последнем слое, чтобы получить вероятности классов для каждого объекта:\n",
    "$$\\hat y = softmax(x)  = \\bigl \\{\\frac {exp(x_i)}{\\sum_j exp(x_j)} \\bigr \\}_{i=1}^K, \\quad K - \\text{число классов}$$\n",
    "В этом случае удобно оптимизировать логарифм правдоподобия:\n",
    "$$L(y, \\hat y) = -\\sum_{i=1}^K y_i \\log \\hat y_i \\rightarrow \\min,$$\n",
    "где $y_i=1$, если объект принадлежит $i$-му классу, и 0 иначе. Записанная в таком виде, эта функция потерь совпадает с выражением для кросс-энтропии. Очевидно, что ее также можно переписать через индексацию, если через $y_i$ обозначить класс данного объекта:\n",
    "$$L(y, \\hat y) = - \\log \\hat y_{y_i} \\rightarrow \\min$$\n",
    "В таком виде ее удобно реализовывать."
   ]
  },
  {
   "cell_type": "markdown",
   "metadata": {},
   "source": [
    "Реализуйте слой Softmax (без параметров). Метод forward должен вычислять логарифм от softmax, а метод backward - пропускать градиенты. В общем случае в промежуточных вычислениях backward получится трехмерный тензор, однако для нашей конкретной функции потерь все вычисления можно реализовать в матричном виде.  Поэтому мы будем предполагать, что аргумент grad_output - это матрица, у которой в каждой строке только одно ненулевое значение (не обязательно единица)."
   ]
  },
  {
   "cell_type": "code",
   "execution_count": 22,
   "metadata": {},
   "outputs": [],
   "source": [
    "from scipy.special import logsumexp\n",
    "# use this function instead of np.log(np.sum(np.exp(...))) !\n",
    "# because it is more stable"
   ]
  },
  {
   "cell_type": "code",
   "execution_count": 23,
   "metadata": {},
   "outputs": [],
   "source": [
    "class Softmax:\n",
    "    def __init__(self):\n",
    "        self.params = []\n",
    "        \n",
    "    def forward(self, input):\n",
    "        \"\"\"\n",
    "        Applies softmax to each row and then applies component-wise log\n",
    "        Input shape: [batch, num_units]\n",
    "        Output shape: [batch, num_units]\n",
    "        \"\"\"\n",
    "        self.input = input\n",
    "        self.forward_matrix = input - logsumexp(input, axis=1)[:, np.newaxis]\n",
    "        return self.forward_matrix\n",
    "        \n",
    "    \n",
    "    def backward(self, grad_output):\n",
    "        \"\"\"\n",
    "        Propagartes gradients.\n",
    "        Assumes that each row of grad_output contains only 1 \n",
    "        non-zero element\n",
    "        Input shape: [batch, num_units]\n",
    "        Output shape: [batch, num_units]\n",
    "        Do not forget to return [] as second value (grad w.r.t. params)\n",
    "        \"\"\"\n",
    "        exp_matr = np.exp(self.input)\n",
    "        d_layer_d_input = grad_output + exp_matr / np.sum(exp_matr, axis=1)[:, np.newaxis]\n",
    "        return d_layer_d_input, []"
   ]
  },
  {
   "cell_type": "markdown",
   "metadata": {},
   "source": [
    "Реализуйте функцию потерь и градиенты функции потерь. "
   ]
  },
  {
   "cell_type": "code",
   "execution_count": 24,
   "metadata": {},
   "outputs": [],
   "source": [
    "def crossentropy(activations, target):\n",
    "    \"\"\"\n",
    "    returns negative log-likelihood of target under model represented by\n",
    "    activations (log probabilities of classes)\n",
    "    each arg has shape [batch, num_classes]\n",
    "    output shape: 1 (scalar)\n",
    "    \"\"\"\n",
    "    return -1 * np.sum(activations * target)\n",
    "    \n",
    "\n",
    "def grad_crossentropy(activations, target):\n",
    "    \"\"\"\n",
    "    returns gradient of negative log-likelihood w.r.t. activations\n",
    "    each arg has shape [batch, num_classes]\n",
    "    output shape: [batch, num_classes]\n",
    "    \n",
    "    hint: this is just one-hot encoding of target vector\n",
    "          multiplied by -1\n",
    "    \"\"\"\n",
    "    return -1 * target"
   ]
  },
  {
   "cell_type": "markdown",
   "metadata": {},
   "source": [
    "Наконец, выполните проверку softmax-слоя, используя функцию потерь и ее градиент.  "
   ]
  },
  {
   "cell_type": "code",
   "execution_count": 25,
   "metadata": {},
   "outputs": [],
   "source": [
    "from sklearn.preprocessing import LabelBinarizer\n",
    "\n",
    "points = np.linspace(-1, 1, 10*12).reshape([10, 12])\n",
    "target = np.arange(10)\n",
    "enc = LabelBinarizer().fit(np.arange(12))\n",
    "target = enc.transform(target)\n",
    "\n",
    "def func(x):\n",
    "    z = x - logsumexp(x, axis=1)[:, np.newaxis]\n",
    "    return crossentropy(z, target)\n",
    "\n",
    "\n",
    "softmax = Softmax()\n",
    "z = softmax.forward(points)\n",
    "d_loss_d_layer = grad_crossentropy(z, target)\n",
    "grads = softmax.backward(d_loss_d_layer)[0]\n",
    "\n",
    "numeric_grads = eval_numerical_gradient(func, points)\n",
    "\n",
    "assert np.allclose(grads, numeric_grads, rtol=1e-3, atol=0)"
   ]
  },
  {
   "cell_type": "markdown",
   "metadata": {},
   "source": [
    "## Загрузка данных\n",
    "\n",
    "Мы реализаовали все архитектурные составляющие нашей нейронной сети. Осталось загрузить данные и обучить модель. Мы будем работать с датасетом digits, каждый объект в котором - это 8x8 изображение рукописной цифры."
   ]
  },
  {
   "cell_type": "code",
   "execution_count": 26,
   "metadata": {},
   "outputs": [],
   "source": [
    "import matplotlib.pyplot as plt\n",
    "%matplotlib inline"
   ]
  },
  {
   "cell_type": "code",
   "execution_count": 27,
   "metadata": {},
   "outputs": [],
   "source": [
    "from sklearn.datasets import load_digits"
   ]
  },
  {
   "cell_type": "code",
   "execution_count": 28,
   "metadata": {},
   "outputs": [],
   "source": [
    "X, y = load_digits(return_X_y=True)"
   ]
  },
  {
   "cell_type": "code",
   "execution_count": 29,
   "metadata": {},
   "outputs": [
    {
     "data": {
      "text/plain": [
       "((1797, 64), (1797,))"
      ]
     },
     "execution_count": 29,
     "metadata": {},
     "output_type": "execute_result"
    }
   ],
   "source": [
    "X.shape, y.shape"
   ]
  },
  {
   "cell_type": "markdown",
   "metadata": {},
   "source": [
    "Разделим данные на обучение и контроль:"
   ]
  },
  {
   "cell_type": "code",
   "execution_count": 30,
   "metadata": {},
   "outputs": [],
   "source": [
    "from sklearn.model_selection import train_test_split"
   ]
  },
  {
   "cell_type": "code",
   "execution_count": 31,
   "metadata": {},
   "outputs": [],
   "source": [
    "X_train, X_test, y_train, y_test = train_test_split(X, y, random_state=0)"
   ]
  },
  {
   "cell_type": "code",
   "execution_count": 32,
   "metadata": {},
   "outputs": [
    {
     "data": {
      "text/plain": [
       "((1347, 64), (450, 64))"
      ]
     },
     "execution_count": 32,
     "metadata": {},
     "output_type": "execute_result"
    }
   ],
   "source": [
    "X_train.shape, X_test.shape"
   ]
  },
  {
   "cell_type": "markdown",
   "metadata": {},
   "source": [
    "one-hot encoding векторов значений целевой переменной:"
   ]
  },
  {
   "cell_type": "code",
   "execution_count": 33,
   "metadata": {},
   "outputs": [],
   "source": [
    "enc = LabelBinarizer().fit(np.arange(10))\n",
    "y_train_ohe = enc.transform(y_train)\n",
    "y_test_ohe = enc.transform(y_test)"
   ]
  },
  {
   "cell_type": "markdown",
   "metadata": {},
   "source": [
    "## Сборка и обучение нейронной сети (2 балла)"
   ]
  },
  {
   "cell_type": "markdown",
   "metadata": {},
   "source": [
    "В нашей реализации нейросеть - это список слоев. Например:"
   ]
  },
  {
   "cell_type": "code",
   "execution_count": 40,
   "metadata": {},
   "outputs": [],
   "source": [
    "network = []\n",
    "hidden_layers_size = 32\n",
    "network.append(Dense(X_train.shape[1], hidden_layers_size))\n",
    "network.append(ReLU())\n",
    "network.append(Dense(hidden_layers_size, hidden_layers_size))\n",
    "network.append(ReLU())\n",
    "network.append(Dense(hidden_layers_size, 10))\n",
    "network.append(Softmax())"
   ]
  },
  {
   "cell_type": "markdown",
   "metadata": {},
   "source": [
    "Для проверки, хорошо ли сеть обучилась, нам понадобится вычислять точность (accuracy) на данной выборке. Для этого реализуйте функцию, которая делает предсказания на каждом объекте:"
   ]
  },
  {
   "cell_type": "code",
   "execution_count": 20,
   "metadata": {},
   "outputs": [],
   "source": [
    "def predict(network, X):\n",
    "    \"\"\"\n",
    "    returns predictions for each object in X\n",
    "    network: list of layers\n",
    "    X: raw data\n",
    "    X shape: [batch, features_num]\n",
    "    output: array of classes, each from 0 to 9\n",
    "    output shape: [batch]\n",
    "    \"\"\"\n",
    "    curr = X\n",
    "    for layer in network:\n",
    "        curr = layer.forward(curr)\n",
    "    return np.argmax(curr, axis=1)"
   ]
  },
  {
   "cell_type": "markdown",
   "metadata": {},
   "source": [
    "Мы будем обучать параметры нейросети с помощью готовой функции оптимизации из модуля scipy:"
   ]
  },
  {
   "cell_type": "code",
   "execution_count": 21,
   "metadata": {},
   "outputs": [],
   "source": [
    "from scipy.optimize import minimize"
   ]
  },
  {
   "cell_type": "code",
   "execution_count": 22,
   "metadata": {},
   "outputs": [
    {
     "name": "stdout",
     "output_type": "stream",
     "text": [
      "Help on function minimize in module scipy.optimize._minimize:\n",
      "\n",
      "minimize(fun, x0, args=(), method=None, jac=None, hess=None, hessp=None, bounds=None, constraints=(), tol=None, callback=None, options=None)\n",
      "    Minimization of scalar function of one or more variables.\n",
      "    \n",
      "    Parameters\n",
      "    ----------\n",
      "    fun : callable\n",
      "        The objective function to be minimized.\n",
      "    \n",
      "            ``fun(x, *args) -> float``\n",
      "    \n",
      "        where x is an 1-D array with shape (n,) and `args`\n",
      "        is a tuple of the fixed parameters needed to completely\n",
      "        specify the function.\n",
      "    x0 : ndarray, shape (n,)\n",
      "        Initial guess. Array of real elements of size (n,),\n",
      "        where 'n' is the number of independent variables.\n",
      "    args : tuple, optional\n",
      "        Extra arguments passed to the objective function and its\n",
      "        derivatives (`fun`, `jac` and `hess` functions).\n",
      "    method : str or callable, optional\n",
      "        Type of solver.  Should be one of\n",
      "    \n",
      "            - 'Nelder-Mead' :ref:`(see here) <optimize.minimize-neldermead>`\n",
      "            - 'Powell'      :ref:`(see here) <optimize.minimize-powell>`\n",
      "            - 'CG'          :ref:`(see here) <optimize.minimize-cg>`\n",
      "            - 'BFGS'        :ref:`(see here) <optimize.minimize-bfgs>`\n",
      "            - 'Newton-CG'   :ref:`(see here) <optimize.minimize-newtoncg>`\n",
      "            - 'L-BFGS-B'    :ref:`(see here) <optimize.minimize-lbfgsb>`\n",
      "            - 'TNC'         :ref:`(see here) <optimize.minimize-tnc>`\n",
      "            - 'COBYLA'      :ref:`(see here) <optimize.minimize-cobyla>`\n",
      "            - 'SLSQP'       :ref:`(see here) <optimize.minimize-slsqp>`\n",
      "            - 'trust-constr':ref:`(see here) <optimize.minimize-trustconstr>`\n",
      "            - 'dogleg'      :ref:`(see here) <optimize.minimize-dogleg>`\n",
      "            - 'trust-ncg'   :ref:`(see here) <optimize.minimize-trustncg>`\n",
      "            - 'trust-exact' :ref:`(see here) <optimize.minimize-trustexact>`\n",
      "            - 'trust-krylov' :ref:`(see here) <optimize.minimize-trustkrylov>`\n",
      "            - custom - a callable object (added in version 0.14.0),\n",
      "              see below for description.\n",
      "    \n",
      "        If not given, chosen to be one of ``BFGS``, ``L-BFGS-B``, ``SLSQP``,\n",
      "        depending if the problem has constraints or bounds.\n",
      "    jac : {callable,  '2-point', '3-point', 'cs', bool}, optional\n",
      "        Method for computing the gradient vector. Only for CG, BFGS,\n",
      "        Newton-CG, L-BFGS-B, TNC, SLSQP, dogleg, trust-ncg, trust-krylov,\n",
      "        trust-exact and trust-constr. If it is a callable, it should be a\n",
      "        function that returns the gradient vector:\n",
      "    \n",
      "            ``jac(x, *args) -> array_like, shape (n,)``\n",
      "    \n",
      "        where x is an array with shape (n,) and `args` is a tuple with\n",
      "        the fixed parameters. Alternatively, the keywords\n",
      "        {'2-point', '3-point', 'cs'} select a finite\n",
      "        difference scheme for numerical estimation of the gradient. Options\n",
      "        '3-point' and 'cs' are available only to 'trust-constr'.\n",
      "        If `jac` is a Boolean and is True, `fun` is assumed to return the\n",
      "        gradient along with the objective function. If False, the gradient\n",
      "        will be estimated using '2-point' finite difference estimation.\n",
      "    hess : {callable, '2-point', '3-point', 'cs', HessianUpdateStrategy},  optional\n",
      "        Method for computing the Hessian matrix. Only for Newton-CG, dogleg,\n",
      "        trust-ncg,  trust-krylov, trust-exact and trust-constr. If it is\n",
      "        callable, it should return the  Hessian matrix:\n",
      "    \n",
      "            ``hess(x, *args) -> {LinearOperator, spmatrix, array}, (n, n)``\n",
      "    \n",
      "        where x is a (n,) ndarray and `args` is a tuple with the fixed\n",
      "        parameters. LinearOperator and sparse matrix returns are\n",
      "        allowed only for 'trust-constr' method. Alternatively, the keywords\n",
      "        {'2-point', '3-point', 'cs'} select a finite difference scheme\n",
      "        for numerical estimation. Or, objects implementing\n",
      "        `HessianUpdateStrategy` interface can be used to approximate\n",
      "        the Hessian. Available quasi-Newton methods implementing\n",
      "        this interface are:\n",
      "    \n",
      "            - `BFGS`;\n",
      "            - `SR1`.\n",
      "    \n",
      "        Whenever the gradient is estimated via finite-differences,\n",
      "        the Hessian cannot be estimated with options\n",
      "        {'2-point', '3-point', 'cs'} and needs to be\n",
      "        estimated using one of the quasi-Newton strategies.\n",
      "        Finite-difference options {'2-point', '3-point', 'cs'} and\n",
      "        `HessianUpdateStrategy` are available only for 'trust-constr' method.\n",
      "    hessp : callable, optional\n",
      "        Hessian of objective function times an arbitrary vector p. Only for\n",
      "        Newton-CG, trust-ncg, trust-krylov, trust-constr.\n",
      "        Only one of `hessp` or `hess` needs to be given.  If `hess` is\n",
      "        provided, then `hessp` will be ignored.  `hessp` must compute the\n",
      "        Hessian times an arbitrary vector:\n",
      "    \n",
      "            ``hessp(x, p, *args) ->  ndarray shape (n,)``\n",
      "    \n",
      "        where x is a (n,) ndarray, p is an arbitrary vector with\n",
      "        dimension (n,) and `args` is a tuple with the fixed\n",
      "        parameters.\n",
      "    bounds : sequence or `Bounds`, optional\n",
      "        Bounds on variables for L-BFGS-B, TNC, SLSQP and\n",
      "        trust-constr methods. There are two ways to specify the bounds:\n",
      "    \n",
      "            1. Instance of `Bounds` class.\n",
      "            2. Sequence of ``(min, max)`` pairs for each element in `x`. None\n",
      "               is used to specify no bound.\n",
      "    \n",
      "    constraints : {Constraint, dict} or List of {Constraint, dict}, optional\n",
      "        Constraints definition (only for COBYLA, SLSQP and trust-constr).\n",
      "        Constraints for 'trust-constr' are defined as a single object or a\n",
      "        list of objects specifying constraints to the optimization problem.\n",
      "        Available constraints are:\n",
      "    \n",
      "            - `LinearConstraint`\n",
      "            - `NonlinearConstraint`\n",
      "    \n",
      "        Constraints for COBYLA, SLSQP are defined as a list of dictionaries.\n",
      "        Each dictionary with fields:\n",
      "    \n",
      "            type : str\n",
      "                Constraint type: 'eq' for equality, 'ineq' for inequality.\n",
      "            fun : callable\n",
      "                The function defining the constraint.\n",
      "            jac : callable, optional\n",
      "                The Jacobian of `fun` (only for SLSQP).\n",
      "            args : sequence, optional\n",
      "                Extra arguments to be passed to the function and Jacobian.\n",
      "    \n",
      "        Equality constraint means that the constraint function result is to\n",
      "        be zero whereas inequality means that it is to be non-negative.\n",
      "        Note that COBYLA only supports inequality constraints.\n",
      "    tol : float, optional\n",
      "        Tolerance for termination. For detailed control, use solver-specific\n",
      "        options.\n",
      "    options : dict, optional\n",
      "        A dictionary of solver options. All methods accept the following\n",
      "        generic options:\n",
      "    \n",
      "            maxiter : int\n",
      "                Maximum number of iterations to perform.\n",
      "            disp : bool\n",
      "                Set to True to print convergence messages.\n",
      "    \n",
      "        For method-specific options, see :func:`show_options()`.\n",
      "    callback : callable, optional\n",
      "        Called after each iteration. For 'trust-constr' it is a callable with\n",
      "        the signature:\n",
      "    \n",
      "            ``callback(xk, OptimizeResult state) -> bool``\n",
      "    \n",
      "        where ``xk`` is the current parameter vector. and ``state``\n",
      "        is an `OptimizeResult` object, with the same fields\n",
      "        as the ones from the return.  If callback returns True\n",
      "        the algorithm execution is terminated.\n",
      "        For all the other methods, the signature is:\n",
      "    \n",
      "            ``callback(xk)``\n",
      "    \n",
      "        where ``xk`` is the current parameter vector.\n",
      "    \n",
      "    Returns\n",
      "    -------\n",
      "    res : OptimizeResult\n",
      "        The optimization result represented as a ``OptimizeResult`` object.\n",
      "        Important attributes are: ``x`` the solution array, ``success`` a\n",
      "        Boolean flag indicating if the optimizer exited successfully and\n",
      "        ``message`` which describes the cause of the termination. See\n",
      "        `OptimizeResult` for a description of other attributes.\n",
      "    \n",
      "    \n",
      "    See also\n",
      "    --------\n",
      "    minimize_scalar : Interface to minimization algorithms for scalar\n",
      "        univariate functions\n",
      "    show_options : Additional options accepted by the solvers\n",
      "    \n",
      "    Notes\n",
      "    -----\n",
      "    This section describes the available solvers that can be selected by the\n",
      "    'method' parameter. The default method is *BFGS*.\n",
      "    \n",
      "    **Unconstrained minimization**\n",
      "    \n",
      "    Method :ref:`Nelder-Mead <optimize.minimize-neldermead>` uses the\n",
      "    Simplex algorithm [1]_, [2]_. This algorithm is robust in many\n",
      "    applications. However, if numerical computation of derivative can be\n",
      "    trusted, other algorithms using the first and/or second derivatives\n",
      "    information might be preferred for their better performance in\n",
      "    general.\n",
      "    \n",
      "    Method :ref:`Powell <optimize.minimize-powell>` is a modification\n",
      "    of Powell's method [3]_, [4]_ which is a conjugate direction\n",
      "    method. It performs sequential one-dimensional minimizations along\n",
      "    each vector of the directions set (`direc` field in `options` and\n",
      "    `info`), which is updated at each iteration of the main\n",
      "    minimization loop. The function need not be differentiable, and no\n",
      "    derivatives are taken.\n",
      "    \n",
      "    Method :ref:`CG <optimize.minimize-cg>` uses a nonlinear conjugate\n",
      "    gradient algorithm by Polak and Ribiere, a variant of the\n",
      "    Fletcher-Reeves method described in [5]_ pp.  120-122. Only the\n",
      "    first derivatives are used.\n",
      "    \n",
      "    Method :ref:`BFGS <optimize.minimize-bfgs>` uses the quasi-Newton\n",
      "    method of Broyden, Fletcher, Goldfarb, and Shanno (BFGS) [5]_\n",
      "    pp. 136. It uses the first derivatives only. BFGS has proven good\n",
      "    performance even for non-smooth optimizations. This method also\n",
      "    returns an approximation of the Hessian inverse, stored as\n",
      "    `hess_inv` in the OptimizeResult object.\n",
      "    \n",
      "    Method :ref:`Newton-CG <optimize.minimize-newtoncg>` uses a\n",
      "    Newton-CG algorithm [5]_ pp. 168 (also known as the truncated\n",
      "    Newton method). It uses a CG method to the compute the search\n",
      "    direction. See also *TNC* method for a box-constrained\n",
      "    minimization with a similar algorithm. Suitable for large-scale\n",
      "    problems.\n",
      "    \n",
      "    Method :ref:`dogleg <optimize.minimize-dogleg>` uses the dog-leg\n",
      "    trust-region algorithm [5]_ for unconstrained minimization. This\n",
      "    algorithm requires the gradient and Hessian; furthermore the\n",
      "    Hessian is required to be positive definite.\n",
      "    \n",
      "    Method :ref:`trust-ncg <optimize.minimize-trustncg>` uses the\n",
      "    Newton conjugate gradient trust-region algorithm [5]_ for\n",
      "    unconstrained minimization. This algorithm requires the gradient\n",
      "    and either the Hessian or a function that computes the product of\n",
      "    the Hessian with a given vector. Suitable for large-scale problems.\n",
      "    \n",
      "    Method :ref:`trust-krylov <optimize.minimize-trustkrylov>` uses\n",
      "    the Newton GLTR trust-region algorithm [14]_, [15]_ for unconstrained\n",
      "    minimization. This algorithm requires the gradient\n",
      "    and either the Hessian or a function that computes the product of\n",
      "    the Hessian with a given vector. Suitable for large-scale problems.\n",
      "    On indefinite problems it requires usually less iterations than the\n",
      "    `trust-ncg` method and is recommended for medium and large-scale problems.\n",
      "    \n",
      "    Method :ref:`trust-exact <optimize.minimize-trustexact>`\n",
      "    is a trust-region method for unconstrained minimization in which\n",
      "    quadratic subproblems are solved almost exactly [13]_. This\n",
      "    algorithm requires the gradient and the Hessian (which is\n",
      "    *not* required to be positive definite). It is, in many\n",
      "    situations, the Newton method to converge in fewer iteraction\n",
      "    and the most recommended for small and medium-size problems.\n",
      "    \n",
      "    **Bound-Constrained minimization**\n",
      "    \n",
      "    Method :ref:`L-BFGS-B <optimize.minimize-lbfgsb>` uses the L-BFGS-B\n",
      "    algorithm [6]_, [7]_ for bound constrained minimization.\n",
      "    \n",
      "    Method :ref:`TNC <optimize.minimize-tnc>` uses a truncated Newton\n",
      "    algorithm [5]_, [8]_ to minimize a function with variables subject\n",
      "    to bounds. This algorithm uses gradient information; it is also\n",
      "    called Newton Conjugate-Gradient. It differs from the *Newton-CG*\n",
      "    method described above as it wraps a C implementation and allows\n",
      "    each variable to be given upper and lower bounds.\n",
      "    \n",
      "    **Constrained Minimization**\n",
      "    \n",
      "    Method :ref:`COBYLA <optimize.minimize-cobyla>` uses the\n",
      "    Constrained Optimization BY Linear Approximation (COBYLA) method\n",
      "    [9]_, [10]_, [11]_. The algorithm is based on linear\n",
      "    approximations to the objective function and each constraint. The\n",
      "    method wraps a FORTRAN implementation of the algorithm. The\n",
      "    constraints functions 'fun' may return either a single number\n",
      "    or an array or list of numbers.\n",
      "    \n",
      "    Method :ref:`SLSQP <optimize.minimize-slsqp>` uses Sequential\n",
      "    Least SQuares Programming to minimize a function of several\n",
      "    variables with any combination of bounds, equality and inequality\n",
      "    constraints. The method wraps the SLSQP Optimization subroutine\n",
      "    originally implemented by Dieter Kraft [12]_. Note that the\n",
      "    wrapper handles infinite values in bounds by converting them into\n",
      "    large floating values.\n",
      "    \n",
      "    Method :ref:`trust-constr <optimize.minimize-trustconstr>` is a\n",
      "    trust-region algorithm for constrained optimization. It swiches\n",
      "    between two implementations depending on the problem definition.\n",
      "    It is the most versatile constrained minimization algorithm\n",
      "    implemented in SciPy and the most appropriate for large-scale problems.\n",
      "    For equality constrained problems it is an implementation of Byrd-Omojokun\n",
      "    Trust-Region SQP method described in [17]_ and in [5]_, p. 549. When\n",
      "    inequality constraints  are imposed as well, it swiches to the trust-region\n",
      "    interior point  method described in [16]_. This interior point algorithm,\n",
      "    in turn, solves inequality constraints by introducing slack variables\n",
      "    and solving a sequence of equality-constrained barrier problems\n",
      "    for progressively smaller values of the barrier parameter.\n",
      "    The previously described equality constrained SQP method is\n",
      "    used to solve the subproblems with increasing levels of accuracy\n",
      "    as the iterate gets closer to a solution.\n",
      "    \n",
      "    **Finite-Difference Options**\n",
      "    \n",
      "    For Method :ref:`trust-constr <optimize.minimize-trustconstr>`\n",
      "    the gradient and the Hessian may be approximated using\n",
      "    three finite-difference schemes: {'2-point', '3-point', 'cs'}.\n",
      "    The scheme 'cs' is, potentially, the most accurate but it\n",
      "    requires the function to correctly handles complex inputs and to\n",
      "    be differentiable in the complex plane. The scheme '3-point' is more\n",
      "    accurate than '2-point' but requires twice as much operations.\n",
      "    \n",
      "    **Custom minimizers**\n",
      "    \n",
      "    It may be useful to pass a custom minimization method, for example\n",
      "    when using a frontend to this method such as `scipy.optimize.basinhopping`\n",
      "    or a different library.  You can simply pass a callable as the ``method``\n",
      "    parameter.\n",
      "    \n",
      "    The callable is called as ``method(fun, x0, args, **kwargs, **options)``\n",
      "    where ``kwargs`` corresponds to any other parameters passed to `minimize`\n",
      "    (such as `callback`, `hess`, etc.), except the `options` dict, which has\n",
      "    its contents also passed as `method` parameters pair by pair.  Also, if\n",
      "    `jac` has been passed as a bool type, `jac` and `fun` are mangled so that\n",
      "    `fun` returns just the function values and `jac` is converted to a function\n",
      "    returning the Jacobian.  The method shall return an ``OptimizeResult``\n",
      "    object.\n",
      "    \n",
      "    The provided `method` callable must be able to accept (and possibly ignore)\n",
      "    arbitrary parameters; the set of parameters accepted by `minimize` may\n",
      "    expand in future versions and then these parameters will be passed to\n",
      "    the method.  You can find an example in the scipy.optimize tutorial.\n",
      "    \n",
      "    .. versionadded:: 0.11.0\n",
      "    \n",
      "    References\n",
      "    ----------\n",
      "    .. [1] Nelder, J A, and R Mead. 1965. A Simplex Method for Function\n",
      "        Minimization. The Computer Journal 7: 308-13.\n",
      "    .. [2] Wright M H. 1996. Direct search methods: Once scorned, now\n",
      "        respectable, in Numerical Analysis 1995: Proceedings of the 1995\n",
      "        Dundee Biennial Conference in Numerical Analysis (Eds. D F\n",
      "        Griffiths and G A Watson). Addison Wesley Longman, Harlow, UK.\n",
      "        191-208.\n",
      "    .. [3] Powell, M J D. 1964. An efficient method for finding the minimum of\n",
      "       a function of several variables without calculating derivatives. The\n",
      "       Computer Journal 7: 155-162.\n",
      "    .. [4] Press W, S A Teukolsky, W T Vetterling and B P Flannery.\n",
      "       Numerical Recipes (any edition), Cambridge University Press.\n",
      "    .. [5] Nocedal, J, and S J Wright. 2006. Numerical Optimization.\n",
      "       Springer New York.\n",
      "    .. [6] Byrd, R H and P Lu and J. Nocedal. 1995. A Limited Memory\n",
      "       Algorithm for Bound Constrained Optimization. SIAM Journal on\n",
      "       Scientific and Statistical Computing 16 (5): 1190-1208.\n",
      "    .. [7] Zhu, C and R H Byrd and J Nocedal. 1997. L-BFGS-B: Algorithm\n",
      "       778: L-BFGS-B, FORTRAN routines for large scale bound constrained\n",
      "       optimization. ACM Transactions on Mathematical Software 23 (4):\n",
      "       550-560.\n",
      "    .. [8] Nash, S G. Newton-Type Minimization Via the Lanczos Method.\n",
      "       1984. SIAM Journal of Numerical Analysis 21: 770-778.\n",
      "    .. [9] Powell, M J D. A direct search optimization method that models\n",
      "       the objective and constraint functions by linear interpolation.\n",
      "       1994. Advances in Optimization and Numerical Analysis, eds. S. Gomez\n",
      "       and J-P Hennart, Kluwer Academic (Dordrecht), 51-67.\n",
      "    .. [10] Powell M J D. Direct search algorithms for optimization\n",
      "       calculations. 1998. Acta Numerica 7: 287-336.\n",
      "    .. [11] Powell M J D. A view of algorithms for optimization without\n",
      "       derivatives. 2007.Cambridge University Technical Report DAMTP\n",
      "       2007/NA03\n",
      "    .. [12] Kraft, D. A software package for sequential quadratic\n",
      "       programming. 1988. Tech. Rep. DFVLR-FB 88-28, DLR German Aerospace\n",
      "       Center -- Institute for Flight Mechanics, Koln, Germany.\n",
      "    .. [13] Conn, A. R., Gould, N. I., and Toint, P. L.\n",
      "       Trust region methods. 2000. Siam. pp. 169-200.\n",
      "    .. [14] F. Lenders, C. Kirches, A. Potschka: \"trlib: A vector-free\n",
      "       implementation of the GLTR method for iterative solution of\n",
      "       the trust region problem\", https://arxiv.org/abs/1611.04718\n",
      "    .. [15] N. Gould, S. Lucidi, M. Roma, P. Toint: \"Solving the\n",
      "       Trust-Region Subproblem using the Lanczos Method\",\n",
      "       SIAM J. Optim., 9(2), 504--525, (1999).\n",
      "    .. [16] Byrd, Richard H., Mary E. Hribar, and Jorge Nocedal. 1999.\n",
      "        An interior point algorithm for large-scale nonlinear  programming.\n",
      "        SIAM Journal on Optimization 9.4: 877-900.\n",
      "    .. [17] Lalee, Marucha, Jorge Nocedal, and Todd Plantega. 1998. On the\n",
      "        implementation of an algorithm for large-scale equality constrained\n",
      "        optimization. SIAM Journal on Optimization 8.3: 682-706.\n",
      "    \n",
      "    Examples\n",
      "    --------\n",
      "    Let us consider the problem of minimizing the Rosenbrock function. This\n",
      "    function (and its respective derivatives) is implemented in `rosen`\n",
      "    (resp. `rosen_der`, `rosen_hess`) in the `scipy.optimize`.\n",
      "    \n",
      "    >>> from scipy.optimize import minimize, rosen, rosen_der\n",
      "    \n",
      "    A simple application of the *Nelder-Mead* method is:\n",
      "    \n",
      "    >>> x0 = [1.3, 0.7, 0.8, 1.9, 1.2]\n",
      "    >>> res = minimize(rosen, x0, method='Nelder-Mead', tol=1e-6)\n",
      "    >>> res.x\n",
      "    array([ 1.,  1.,  1.,  1.,  1.])\n",
      "    \n",
      "    Now using the *BFGS* algorithm, using the first derivative and a few\n",
      "    options:\n",
      "    \n",
      "    >>> res = minimize(rosen, x0, method='BFGS', jac=rosen_der,\n",
      "    ...                options={'gtol': 1e-6, 'disp': True})\n",
      "    Optimization terminated successfully.\n",
      "             Current function value: 0.000000\n",
      "             Iterations: 26\n",
      "             Function evaluations: 31\n",
      "             Gradient evaluations: 31\n",
      "    >>> res.x\n",
      "    array([ 1.,  1.,  1.,  1.,  1.])\n",
      "    >>> print(res.message)\n",
      "    Optimization terminated successfully.\n",
      "    >>> res.hess_inv\n",
      "    array([[ 0.00749589,  0.01255155,  0.02396251,  0.04750988,  0.09495377],  # may vary\n",
      "           [ 0.01255155,  0.02510441,  0.04794055,  0.09502834,  0.18996269],\n",
      "           [ 0.02396251,  0.04794055,  0.09631614,  0.19092151,  0.38165151],\n",
      "           [ 0.04750988,  0.09502834,  0.19092151,  0.38341252,  0.7664427 ],\n",
      "           [ 0.09495377,  0.18996269,  0.38165151,  0.7664427,   1.53713523]])\n",
      "    \n",
      "    \n",
      "    Next, consider a minimization problem with several constraints (namely\n",
      "    Example 16.4 from [5]_). The objective function is:\n",
      "    \n",
      "    >>> fun = lambda x: (x[0] - 1)**2 + (x[1] - 2.5)**2\n",
      "    \n",
      "    There are three constraints defined as:\n",
      "    \n",
      "    >>> cons = ({'type': 'ineq', 'fun': lambda x:  x[0] - 2 * x[1] + 2},\n",
      "    ...         {'type': 'ineq', 'fun': lambda x: -x[0] - 2 * x[1] + 6},\n",
      "    ...         {'type': 'ineq', 'fun': lambda x: -x[0] + 2 * x[1] + 2})\n",
      "    \n",
      "    And variables must be positive, hence the following bounds:\n",
      "    \n",
      "    >>> bnds = ((0, None), (0, None))\n",
      "    \n",
      "    The optimization problem is solved using the SLSQP method as:\n",
      "    \n",
      "    >>> res = minimize(fun, (2, 0), method='SLSQP', bounds=bnds,\n",
      "    ...                constraints=cons)\n",
      "    \n",
      "    It should converge to the theoretical solution (1.4 ,1.7).\n",
      "\n"
     ]
    }
   ],
   "source": [
    "help(minimize)"
   ]
  },
  {
   "cell_type": "markdown",
   "metadata": {},
   "source": [
    "Эта функция имеет стандартный интерфейс: нужно передать callable объект, который вычисляет значение и градиент целевой функции, а также точку старта оптимизации - начальное приближение (одномерный numpy-массив). Поэтому нам понадобятся функции для сбора и задания всех весов нашей нейросети (именно для них мы всегда записывали параметры слоя в список layer.params)"
   ]
  },
  {
   "cell_type": "code",
   "execution_count": 22,
   "metadata": {},
   "outputs": [],
   "source": [
    "def get_weights(network):\n",
    "    weights = []\n",
    "    for layer in network:\n",
    "        for param in layer.params:\n",
    "            weights += param.ravel().tolist()\n",
    "    return np.array(weights)\n",
    "\n",
    "def set_weights(weights, network):\n",
    "    i = 0\n",
    "    for layer in network:\n",
    "        for param in layer.params:\n",
    "            l = param.size\n",
    "            param[:] = weights[i:i+l].\\\n",
    "                             reshape(param.shape)\n",
    "            i += l\n",
    "        "
   ]
  },
  {
   "cell_type": "markdown",
   "metadata": {},
   "source": [
    "Вам нужно реализовать ту самую функцию, которую мы будем передавать в minimize. Эта функция должна брать на вход текущую точку (вектор всех параметров), а также список дополнительных параметров (мы будем передавать через них нашу сеть и обучающие данные) и возвращать значение критерия качества (кросс-энтропия) и его градиент по параметрам модели."
   ]
  },
  {
   "cell_type": "code",
   "execution_count": 23,
   "metadata": {},
   "outputs": [],
   "source": [
    "def compute_loss_grad(weights, args):\n",
    "    \"\"\"\n",
    "    takes current weights and computes cross-entropy and gradients\n",
    "    weights shape: [num_parameters]\n",
    "    output 1: loss (scalar)\n",
    "    output 2: gradint w.r.t. weights, shape: [num_parameters]\n",
    "    \n",
    "    hint: firstly perform forward pass through the whole network\n",
    "    then compute loss and its gradients\n",
    "    then perform backward pass, transmitting first baskward output\n",
    "    to the previos layer and saving second baskward output in a list\n",
    "    finally flatten all the gradients in this list\n",
    "    (in the order from the first to the last layer)\n",
    "    \n",
    "    Do not forget to set weights of the network!\n",
    "    \"\"\"\n",
    "    network, X, y = args\n",
    "    set_weights(weights, network)\n",
    "    curr = X\n",
    "    for layer in network:\n",
    "        curr = layer.forward(curr)\n",
    "    loss = crossentropy(curr, y)\n",
    "    grad_list = []\n",
    "    d_loss_d_curr = []\n",
    "    d_loss_d_curr.append(grad_crossentropy(curr, y))\n",
    "    for layer in reversed(network):\n",
    "        d_loss_d_curr = layer.backward(d_loss_d_curr[0])\n",
    "        if type(d_loss_d_curr[1]) is np.ndarray:\n",
    "            grad_list = d_loss_d_curr[1].tolist() + grad_list\n",
    "        else:\n",
    "            grad_list = d_loss_d_curr[1] + grad_list\n",
    "    return loss, np.array(grad_list)\n"
   ]
  },
  {
   "cell_type": "markdown",
   "metadata": {},
   "source": [
    "Теперь мы готовы обучать нашу нейросеть. "
   ]
  },
  {
   "cell_type": "code",
   "execution_count": 42,
   "metadata": {},
   "outputs": [],
   "source": [
    "weights = get_weights(network)"
   ]
  },
  {
   "cell_type": "code",
   "execution_count": 43,
   "metadata": {},
   "outputs": [
    {
     "data": {
      "text/plain": [
       "(3466,)"
      ]
     },
     "execution_count": 43,
     "metadata": {},
     "output_type": "execute_result"
    }
   ],
   "source": [
    "weights.shape"
   ]
  },
  {
   "cell_type": "code",
   "execution_count": 44,
   "metadata": {},
   "outputs": [],
   "source": [
    "res = minimize(compute_loss_grad, weights,  # fun and start point\n",
    "               args=[network, X_train, y_train_ohe], # args passed to fun\n",
    "               method=\"L-BFGS-B\", # optimization method\n",
    "               jac=True) # says that gradient are computed in fun"
   ]
  },
  {
   "cell_type": "code",
   "execution_count": 45,
   "metadata": {},
   "outputs": [
    {
     "data": {
      "text/plain": [
       "dict_keys(['fun', 'jac', 'nfev', 'nit', 'status', 'message', 'x', 'success', 'hess_inv'])"
      ]
     },
     "execution_count": 45,
     "metadata": {},
     "output_type": "execute_result"
    }
   ],
   "source": [
    "res.keys()"
   ]
  },
  {
   "cell_type": "code",
   "execution_count": 46,
   "metadata": {},
   "outputs": [
    {
     "data": {
      "text/plain": [
       "108"
      ]
     },
     "execution_count": 46,
     "metadata": {},
     "output_type": "execute_result"
    }
   ],
   "source": [
    "res[\"nit\"] # number of iterations (should be >> 10)"
   ]
  },
  {
   "cell_type": "code",
   "execution_count": 47,
   "metadata": {},
   "outputs": [
    {
     "data": {
      "text/plain": [
       "True"
      ]
     },
     "execution_count": 47,
     "metadata": {},
     "output_type": "execute_result"
    }
   ],
   "source": [
    "res[\"success\"] # should be True"
   ]
  },
  {
   "cell_type": "code",
   "execution_count": 48,
   "metadata": {},
   "outputs": [
    {
     "data": {
      "text/plain": [
       "array([-0.01249765,  0.011819  ,  0.01508702, ..., -0.13799165,\n",
       "       -0.55023413,  0.0583763 ])"
      ]
     },
     "execution_count": 48,
     "metadata": {},
     "output_type": "execute_result"
    }
   ],
   "source": [
    "res[\"x\"] # leraned weights"
   ]
  },
  {
   "cell_type": "markdown",
   "metadata": {},
   "source": [
    "Выведите качество на обучении (X_train, y_train) и на контроле (X_test, y_test). Не забудьте установить веса!"
   ]
  },
  {
   "cell_type": "code",
   "execution_count": 49,
   "metadata": {},
   "outputs": [
    {
     "name": "stdout",
     "output_type": "stream",
     "text": [
      "train accuracy: 1.0\n",
      "test accuracy: 0.9511111111111111\n"
     ]
    }
   ],
   "source": [
    "set_weights(res[\"x\"], network)\n",
    "y_pred = predict(network, X_train)\n",
    "print('train accuracy:', np.sum(y_pred == y_train) / np.size(y_train))\n",
    "y_pred = predict(network, X_test)\n",
    "print('test accuracy:', np.sum(y_pred == y_test) / np.size(y_test))"
   ]
  },
  {
   "cell_type": "markdown",
   "metadata": {},
   "source": [
    "У minimize есть также аргумент callback - в нее можно передать функцию, которая будет вызываться после каждой итерации оптимизации. Такую функцию удобно оформить в виде метода класса, который будет сохранять качество на обучении контроле после каждой итерации. Реализуйте этот метод в классе Callback:"
   ]
  },
  {
   "cell_type": "code",
   "execution_count": 24,
   "metadata": {},
   "outputs": [],
   "source": [
    "class Callback:\n",
    "    def __init__(self, network, X_train, y_train, X_test, y_test, print=False):\n",
    "        self.network = network\n",
    "        self.X_train = X_train\n",
    "        self.X_test = X_test\n",
    "        self.y_train = y_train\n",
    "        self.y_test = y_test\n",
    "        self.print = print\n",
    "        self.train_acc = []\n",
    "        self.test_acc = []\n",
    "        \n",
    "    def call(self, weights):\n",
    "        \"\"\"\n",
    "        computes quality on train and test set with given weights\n",
    "        and saves to self.train_acc and self.test_acc\n",
    "        if self.print is True, also prints these 2 values\n",
    "        \"\"\"\n",
    "        set_weights(weights, self.network)\n",
    "        y_pred = predict(self.network, self.X_train)\n",
    "        curr_train_acc = np.sum(y_pred == self.y_train) / np.size(self.y_train)\n",
    "        self.train_acc.append(curr_train_acc)\n",
    "        y_pred = predict(self.network, self.X_test)\n",
    "        curr_test_acc = np.sum(y_pred == self.y_test) / np.size(self.y_test)\n",
    "        self.test_acc.append(curr_test_acc)\n",
    "        if(self.print):\n",
    "            print('train accuracy:', curr_train_acc)\n",
    "            print('test accuracy:', curr_test_acc)       "
   ]
  },
  {
   "cell_type": "code",
   "execution_count": 51,
   "metadata": {},
   "outputs": [
    {
     "name": "stdout",
     "output_type": "stream",
     "text": [
      "train accuracy: 0.11804008908685969\n",
      "test accuracy: 0.09111111111111111\n",
      "train accuracy: 0.23608017817371937\n",
      "test accuracy: 0.2222222222222222\n",
      "train accuracy: 0.21752041573867856\n",
      "test accuracy: 0.21777777777777776\n",
      "train accuracy: 0.25389755011135856\n",
      "test accuracy: 0.23333333333333334\n",
      "train accuracy: 0.28210838901262064\n",
      "test accuracy: 0.27111111111111114\n",
      "train accuracy: 0.29398663697104677\n",
      "test accuracy: 0.2866666666666667\n",
      "train accuracy: 0.42316258351893093\n",
      "test accuracy: 0.37555555555555553\n",
      "train accuracy: 0.4053452115812918\n",
      "test accuracy: 0.37333333333333335\n",
      "train accuracy: 0.3904974016332591\n",
      "test accuracy: 0.4066666666666667\n",
      "train accuracy: 0.5590200445434298\n",
      "test accuracy: 0.4911111111111111\n",
      "train accuracy: 0.6577579806978471\n",
      "test accuracy: 0.6266666666666667\n",
      "train accuracy: 0.7089829250185598\n",
      "test accuracy: 0.6955555555555556\n",
      "train accuracy: 0.7542687453600594\n",
      "test accuracy: 0.7133333333333334\n",
      "train accuracy: 0.7461024498886414\n",
      "test accuracy: 0.7133333333333334\n",
      "train accuracy: 0.7683741648106904\n",
      "test accuracy: 0.7488888888888889\n",
      "train accuracy: 0.7891610987379362\n",
      "test accuracy: 0.7466666666666667\n",
      "train accuracy: 0.799554565701559\n",
      "test accuracy: 0.76\n",
      "train accuracy: 0.8054936896807721\n",
      "test accuracy: 0.7622222222222222\n",
      "train accuracy: 0.8106904231625836\n",
      "test accuracy: 0.7666666666666667\n",
      "train accuracy: 0.8195991091314031\n",
      "test accuracy: 0.7888888888888889\n",
      "train accuracy: 0.8351893095768375\n",
      "test accuracy: 0.7977777777777778\n",
      "train accuracy: 0.8448403860430587\n",
      "test accuracy: 0.8133333333333334\n",
      "train accuracy: 0.8574610244988864\n",
      "test accuracy: 0.8133333333333334\n",
      "train accuracy: 0.8626577579806979\n",
      "test accuracy: 0.8311111111111111\n",
      "train accuracy: 0.8804751299183371\n",
      "test accuracy: 0.8444444444444444\n",
      "train accuracy: 0.8916109873793615\n",
      "test accuracy: 0.8688888888888889\n",
      "train accuracy: 0.9057164068299925\n",
      "test accuracy: 0.8822222222222222\n",
      "train accuracy: 0.9190794357832219\n",
      "test accuracy: 0.8955555555555555\n",
      "train accuracy: 0.9287305122494433\n",
      "test accuracy: 0.9044444444444445\n",
      "train accuracy: 0.933184855233853\n",
      "test accuracy: 0.9133333333333333\n",
      "train accuracy: 0.9376391982182628\n",
      "test accuracy: 0.9133333333333333\n",
      "train accuracy: 0.9376391982182628\n",
      "test accuracy: 0.9155555555555556\n",
      "train accuracy: 0.9465478841870824\n",
      "test accuracy: 0.9266666666666666\n",
      "train accuracy: 0.9539717891610987\n",
      "test accuracy: 0.9333333333333333\n",
      "train accuracy: 0.9502598366740905\n",
      "test accuracy: 0.9377777777777778\n",
      "train accuracy: 0.9591685226429102\n",
      "test accuracy: 0.9377777777777778\n",
      "train accuracy: 0.96362286562732\n",
      "test accuracy: 0.94\n",
      "train accuracy: 0.9688195991091314\n",
      "test accuracy: 0.94\n",
      "train accuracy: 0.9732739420935412\n",
      "test accuracy: 0.9422222222222222\n",
      "train accuracy: 0.9755011135857461\n",
      "test accuracy: 0.9422222222222222\n",
      "train accuracy: 0.9784706755753526\n",
      "test accuracy: 0.9444444444444444\n",
      "train accuracy: 0.9806978470675576\n",
      "test accuracy: 0.9488888888888889\n",
      "train accuracy: 0.9821826280623608\n",
      "test accuracy: 0.9511111111111111\n",
      "train accuracy: 0.9851521900519673\n",
      "test accuracy: 0.9511111111111111\n",
      "train accuracy: 0.9829250185597624\n",
      "test accuracy: 0.9555555555555556\n",
      "train accuracy: 0.9866369710467706\n",
      "test accuracy: 0.9533333333333334\n",
      "train accuracy: 0.9896065330363771\n",
      "test accuracy: 0.9511111111111111\n",
      "train accuracy: 0.9903489235337788\n",
      "test accuracy: 0.9533333333333334\n",
      "train accuracy: 0.9903489235337788\n",
      "test accuracy: 0.9577777777777777\n",
      "train accuracy: 0.9933184855233853\n",
      "test accuracy: 0.9622222222222222\n",
      "train accuracy: 0.9933184855233853\n",
      "test accuracy: 0.9622222222222222\n",
      "train accuracy: 0.9955456570155902\n",
      "test accuracy: 0.9622222222222222\n",
      "train accuracy: 0.9955456570155902\n",
      "test accuracy: 0.9622222222222222\n",
      "train accuracy: 0.9962880475129918\n",
      "test accuracy: 0.9644444444444444\n",
      "train accuracy: 0.9977728285077951\n",
      "test accuracy: 0.9666666666666667\n",
      "train accuracy: 0.9977728285077951\n",
      "test accuracy: 0.9666666666666667\n",
      "train accuracy: 0.9977728285077951\n",
      "test accuracy: 0.9688888888888889\n",
      "train accuracy: 0.9992576095025983\n",
      "test accuracy: 0.9666666666666667\n",
      "train accuracy: 0.9992576095025983\n",
      "test accuracy: 0.9711111111111111\n",
      "train accuracy: 0.9992576095025983\n",
      "test accuracy: 0.9711111111111111\n",
      "train accuracy: 1.0\n",
      "test accuracy: 0.9688888888888889\n",
      "train accuracy: 1.0\n",
      "test accuracy: 0.9688888888888889\n",
      "train accuracy: 1.0\n",
      "test accuracy: 0.9688888888888889\n",
      "train accuracy: 1.0\n",
      "test accuracy: 0.9666666666666667\n",
      "train accuracy: 1.0\n",
      "test accuracy: 0.9688888888888889\n",
      "train accuracy: 1.0\n",
      "test accuracy: 0.9666666666666667\n",
      "train accuracy: 1.0\n",
      "test accuracy: 0.9666666666666667\n",
      "train accuracy: 1.0\n",
      "test accuracy: 0.9644444444444444\n",
      "train accuracy: 1.0\n",
      "test accuracy: 0.9666666666666667\n",
      "train accuracy: 1.0\n",
      "test accuracy: 0.9644444444444444\n",
      "train accuracy: 1.0\n",
      "test accuracy: 0.9644444444444444\n",
      "train accuracy: 1.0\n",
      "test accuracy: 0.9622222222222222\n",
      "train accuracy: 1.0\n",
      "test accuracy: 0.9577777777777777\n",
      "train accuracy: 1.0\n",
      "test accuracy: 0.96\n",
      "train accuracy: 1.0\n",
      "test accuracy: 0.9622222222222222\n",
      "train accuracy: 1.0\n",
      "test accuracy: 0.9622222222222222\n",
      "train accuracy: 1.0\n",
      "test accuracy: 0.96\n",
      "train accuracy: 1.0\n",
      "test accuracy: 0.96\n",
      "train accuracy: 1.0\n",
      "test accuracy: 0.9644444444444444\n",
      "train accuracy: 1.0\n",
      "test accuracy: 0.9622222222222222\n",
      "train accuracy: 1.0\n",
      "test accuracy: 0.9622222222222222\n",
      "train accuracy: 1.0\n",
      "test accuracy: 0.96\n",
      "train accuracy: 1.0\n",
      "test accuracy: 0.9555555555555556\n",
      "train accuracy: 1.0\n",
      "test accuracy: 0.9577777777777777\n",
      "train accuracy: 1.0\n",
      "test accuracy: 0.9577777777777777\n",
      "train accuracy: 1.0\n",
      "test accuracy: 0.9577777777777777\n",
      "train accuracy: 1.0\n",
      "test accuracy: 0.9577777777777777\n",
      "train accuracy: 1.0\n",
      "test accuracy: 0.9577777777777777\n",
      "train accuracy: 1.0\n",
      "test accuracy: 0.9555555555555556\n",
      "train accuracy: 1.0\n",
      "test accuracy: 0.9577777777777777\n",
      "train accuracy: 1.0\n",
      "test accuracy: 0.9577777777777777\n",
      "train accuracy: 1.0\n",
      "test accuracy: 0.9577777777777777\n",
      "train accuracy: 1.0\n",
      "test accuracy: 0.9577777777777777\n",
      "train accuracy: 1.0\n",
      "test accuracy: 0.9577777777777777\n",
      "train accuracy: 1.0\n",
      "test accuracy: 0.9577777777777777\n",
      "train accuracy: 1.0\n",
      "test accuracy: 0.9577777777777777\n",
      "train accuracy: 1.0\n",
      "test accuracy: 0.9555555555555556\n",
      "train accuracy: 1.0\n",
      "test accuracy: 0.9555555555555556\n",
      "train accuracy: 1.0\n",
      "test accuracy: 0.9577777777777777\n",
      "train accuracy: 1.0\n",
      "test accuracy: 0.9555555555555556\n",
      "train accuracy: 1.0\n",
      "test accuracy: 0.9511111111111111\n",
      "train accuracy: 1.0\n",
      "test accuracy: 0.9511111111111111\n",
      "train accuracy: 1.0\n",
      "test accuracy: 0.9511111111111111\n",
      "train accuracy: 1.0\n",
      "test accuracy: 0.9511111111111111\n",
      "train accuracy: 1.0\n",
      "test accuracy: 0.9511111111111111\n",
      "train accuracy: 1.0\n",
      "test accuracy: 0.9511111111111111\n",
      "train accuracy: 1.0\n",
      "test accuracy: 0.9511111111111111\n",
      "train accuracy: 1.0\n",
      "test accuracy: 0.9511111111111111\n"
     ]
    }
   ],
   "source": [
    "cb = Callback(network, X_train, y_train, X_test, y_test, print=True)\n",
    "res = minimize(compute_loss_grad, weights,  \n",
    "               args=[network, X_train, y_train_ohe], \n",
    "               method=\"L-BFGS-B\",\n",
    "               jac=True,\n",
    "               callback=cb.call)"
   ]
  },
  {
   "cell_type": "markdown",
   "metadata": {},
   "source": [
    "Изобразите на графике кривую качества на обучени ии контроле по итерациям:"
   ]
  },
  {
   "cell_type": "code",
   "execution_count": 52,
   "metadata": {},
   "outputs": [
    {
     "data": {
      "text/plain": [
       "<matplotlib.legend.Legend at 0x7f1a7c240048>"
      ]
     },
     "execution_count": 52,
     "metadata": {},
     "output_type": "execute_result"
    },
    {
     "data": {
      "image/png": "[encoded data removed]",
      "text/plain": [
       "<Figure size 432x288 with 1 Axes>"
      ]
     },
     "metadata": {
      "needs_background": "light"
     },
     "output_type": "display_data"
    }
   ],
   "source": [
    "plt.plot(cb.train_acc, label=\"train acc\")\n",
    "plt.plot(cb.test_acc, label=\"test acc\")\n",
    "plt.xlabel(\"Iteration\")\n",
    "plt.ylabel(\"Accuracy\")\n",
    "plt.legend()"
   ]
  },
  {
   "cell_type": "markdown",
   "metadata": {},
   "source": [
    "## Эксперименты с числом слоев (2 балла)"
   ]
  },
  {
   "cell_type": "markdown",
   "metadata": {},
   "source": [
    "Ясно, что из-за случайного начального приближения с каждым запуском обучения мы будем получать различное качество. Попробуем обучать нашу нейросеть с разным числом слоев несколько раз.\n",
    "\n",
    "Заполните матрицы accs_train и accs_test. В позиции [i, j] должна стоять величина точности сети с $i+1$ полносвязными слоями при $j$-м запуске (все запуски идентичны)."
   ]
  },
  {
   "cell_type": "code",
   "execution_count": 60,
   "metadata": {},
   "outputs": [],
   "source": [
    "accs_train = np.zeros((5, 5))\n",
    "accs_test = np.zeros((5, 5))"
   ]
  },
  {
   "cell_type": "code",
   "execution_count": 207,
   "metadata": {},
   "outputs": [
    {
     "name": "stderr",
     "output_type": "stream",
     "text": [
      "/home/daria/anaconda3/lib/python3.6/site-packages/ipykernel_launcher.py:25: RuntimeWarning: overflow encountered in exp\n",
      "/home/daria/anaconda3/lib/python3.6/site-packages/ipykernel_launcher.py:26: RuntimeWarning: invalid value encountered in true_divide\n"
     ]
    }
   ],
   "source": [
    "hidden_layers_size = 32\n",
    "\n",
    "for i in range(5):\n",
    "    for j in range(5):\n",
    "        if(i == 0):\n",
    "            network = []\n",
    "            network.append(Dense(X_train.shape[1], 10))\n",
    "            network.append(Softmax())\n",
    "        elif(i == 1):\n",
    "            network = []\n",
    "            network.append(Dense(X_train.shape[1], hidden_layers_size))\n",
    "            network.append(ReLU())\n",
    "            network.append(Dense(hidden_layers_size, 10))\n",
    "            network.append(Softmax())\n",
    "        elif(i == 2):\n",
    "            network = []\n",
    "            network.append(Dense(X_train.shape[1], hidden_layers_size))\n",
    "            network.append(ReLU())\n",
    "            network.append(Dense(hidden_layers_size, hidden_layers_size))\n",
    "            network.append(ReLU())\n",
    "            network.append(Dense(hidden_layers_size, 10))\n",
    "            network.append(Softmax())\n",
    "        elif(i == 3):\n",
    "            network = []\n",
    "            network.append(Dense(X_train.shape[1], hidden_layers_size))\n",
    "            network.append(ReLU())\n",
    "            network.append(Dense(hidden_layers_size, hidden_layers_size))\n",
    "            network.append(ReLU())\n",
    "            network.append(Dense(hidden_layers_size, hidden_layers_size))\n",
    "            network.append(ReLU())\n",
    "            network.append(Dense(hidden_layers_size, 10))\n",
    "            network.append(Softmax())\n",
    "        elif(i == 4):\n",
    "            network = []\n",
    "            network.append(Dense(X_train.shape[1], hidden_layers_size))\n",
    "            network.append(ReLU())\n",
    "            network.append(Dense(hidden_layers_size, hidden_layers_size))\n",
    "            network.append(ReLU())\n",
    "            network.append(Dense(hidden_layers_size, hidden_layers_size))\n",
    "            network.append(ReLU())\n",
    "            network.append(Dense(hidden_layers_size, hidden_layers_size))\n",
    "            network.append(ReLU())\n",
    "            network.append(Dense(hidden_layers_size, 10))\n",
    "            network.append(Softmax())\n",
    "        weights = get_weights(network)\n",
    "        res = minimize(compute_loss_grad, weights,  # fun and start point\n",
    "                   args=[network, X_train, y_train_ohe], # args passed to fun\n",
    "                   method=\"L-BFGS-B\", # optimization method\n",
    "                   jac=True) # says that gradient are computed in fun\n",
    "        set_weights(res[\"x\"], network)\n",
    "        y_pred = predict(network, X_train)\n",
    "        accs_train[i, j] = np.sum(y_pred == y_train) / np.size(y_train)\n",
    "        y_pred = predict(network, X_test)\n",
    "        accs_test[i, j] = np.sum(y_pred == y_test) / np.size(y_test)"
   ]
  },
  {
   "cell_type": "code",
   "execution_count": 208,
   "metadata": {},
   "outputs": [
    {
     "data": {
      "text/plain": [
       "array([[0.94222222, 0.94222222, 0.94888889, 0.94444444, 0.94666667],\n",
       "       [0.95111111, 0.95333333, 0.96444444, 0.95777778, 0.95111111],\n",
       "       [0.96444444, 0.95555556, 0.94888889, 0.94444444, 0.95333333],\n",
       "       [0.20444444, 0.95111111, 0.10222222, 0.18888889, 0.94888889],\n",
       "       [0.1       , 0.95777778, 0.94888889, 0.09777778, 0.18666667]])"
      ]
     },
     "execution_count": 208,
     "metadata": {},
     "output_type": "execute_result"
    }
   ],
   "source": [
    "accs_test"
   ]
  },
  {
   "cell_type": "markdown",
   "metadata": {},
   "source": [
    "Построим боксплоты полученного качества (горизонтальная линия в каждом столбце - среднее, прямоугольник показывает разброс)."
   ]
  },
  {
   "cell_type": "code",
   "execution_count": 209,
   "metadata": {},
   "outputs": [
    {
     "data": {
      "text/plain": [
       "Text(0.5,1,'Test quality in 5 runs')"
      ]
     },
     "execution_count": 209,
     "metadata": {},
     "output_type": "execute_result"
    },
    {
     "data": {
      "image/png": "[encoded data removed]",
      "text/plain": [
       "<Figure size 432x288 with 1 Axes>"
      ]
     },
     "metadata": {
      "needs_background": "light"
     },
     "output_type": "display_data"
    }
   ],
   "source": [
    "plt.boxplot(accs_test.T, showfliers=False)\n",
    "plt.xlabel(\"Num layers\")\n",
    "plt.ylabel(\"Test accuracy\")\n",
    "plt.title(\"Test quality in 5 runs\")"
   ]
  },
  {
   "cell_type": "code",
   "execution_count": 210,
   "metadata": {},
   "outputs": [
    {
     "data": {
      "text/plain": [
       "Text(0.5,1,'Train quality in 5 runs')"
      ]
     },
     "execution_count": 210,
     "metadata": {},
     "output_type": "execute_result"
    },
    {
     "data": {
      "image/png": "[encoded data removed]",
      "text/plain": [
       "<Figure size 432x288 with 1 Axes>"
      ]
     },
     "metadata": {
      "needs_background": "light"
     },
     "output_type": "display_data"
    }
   ],
   "source": [
    "plt.boxplot(accs_train.T, showfliers=False)\n",
    "plt.xlabel(\"Num layers\")\n",
    "plt.ylabel(\"Train accuracy\")\n",
    "plt.title(\"Train quality in 5 runs\")"
   ]
  },
  {
   "cell_type": "markdown",
   "metadata": {},
   "source": [
    "Ответьте на вопросы (кратко в этой же ячейке):\n",
    "* Как изменяются качество на обучении и контроле и устойчивость процесса обучения при увеличении числа слоев? \n",
    "\n",
    "Устойчивость на обучении и контроле падает, лучшая точность и наиболее стабильные результаты достигаются на небольшом числе слоев.\n",
    "* Можно ли сказать, что логистическая регрессия (линейная модель) дает качество хуже, чем нелинейная модель?\n",
    "\n",
    "Возможно, использование нелинейной модели приводит к появлению у оптимизируемой функции большого числа локальных минимумов, поэтому все большее количество точек начального приближения не будет приводить к сходимости к глобальной точке оптимума. При правильном выборе начального приближения можно добиться хорошего качества и с использованием нелинейной модели, но вероятность такого выбора уменьшается с ростом числа слоев."
   ]
  },
  {
   "cell_type": "markdown",
   "metadata": {},
   "source": [
    "\\* Несколько фрагментов кода в задании написаны на основе материалов [курса по глубинному обучению на ФКН НИУ ВШЭ](https://www.hse.ru/ba/ami/courses/205504078.html)"
   ]
  },
  {
   "cell_type": "markdown",
   "metadata": {},
   "source": [
    "## Бонусная часть"
   ]
  },
  {
   "cell_type": "markdown",
   "metadata": {},
   "source": [
    "## Реализация метода оптимизации (1 балл)\n",
    "\n",
    "Реализуйте сами метод оптимизации (аналог функции minimize) для рассмотренной выше архитектуры. В качестве метода оптимизации используйте SGD + momentum. Продемонстрируйте правильную работу метода оптимизации, сравните его работы с LBFGS-B. Сделайте выводы."
   ]
  },
  {
   "cell_type": "code",
   "execution_count": 58,
   "metadata": {},
   "outputs": [],
   "source": [
    "def sgd_momentum(compute_loss_grad, weights, network, X_train, y_train, batch_size=10, \n",
    "                 alpha=0.8, beta=0.01, max_iter=2000, loss_step=50, callback = None):\n",
    "    indexes = np.arange(np.size(y_train, 0))\n",
    "    np.random.shuffle(indexes)\n",
    "    curr_weights = weights\n",
    "    curr_ind = 0\n",
    "    num_iterations = 0\n",
    "    last_loss = 0\n",
    "    curr_loss = 0\n",
    "    momentum = 0\n",
    "    loss_counter = 0\n",
    "    while(num_iterations == 0 or\n",
    "          (num_iterations < max_iter)):\n",
    "        last_loss = curr_loss\n",
    "        if(curr_ind >= np.size(y_train, 0)):\n",
    "            indexes = np.arange(np.size(y_train, 0))\n",
    "            np.random.shuffle(indexes)\n",
    "            curr_ind = 0\n",
    "        curr_loss, curr_grad = compute_loss_grad(curr_weights, \n",
    "                    [\n",
    "                        network, \n",
    "                        X_train[indexes[curr_ind:curr_ind + batch_size],:], \n",
    "                        y_train[indexes[curr_ind:curr_ind + batch_size],:]\n",
    "                    ])\n",
    "        curr_ind += batch_size\n",
    "        momentum = (1 - alpha) * momentum + alpha * curr_grad\n",
    "        curr_weights = curr_weights - beta * momentum\n",
    "        num_iterations += 1\n",
    "        if(callback):\n",
    "            callback.call(curr_weights)\n",
    "        if(curr_loss < last_loss):\n",
    "            loss_counter += 1\n",
    "            if(loss_counter == loss_step):\n",
    "                beta /= 2\n",
    "                loss_counter = 0\n",
    "    return curr_weights"
   ]
  },
  {
   "cell_type": "code",
   "execution_count": 49,
   "metadata": {},
   "outputs": [],
   "source": [
    "accs_train = np.zeros((5, 5))\n",
    "accs_test = np.zeros((5, 5))"
   ]
  },
  {
   "cell_type": "code",
   "execution_count": 72,
   "metadata": {},
   "outputs": [],
   "source": [
    "hidden_layers_size = 32\n",
    "\n",
    "for i in range(5):\n",
    "    for j in range(5):\n",
    "        if(i == 0):\n",
    "            network = []\n",
    "            network.append(Dense(X_train.shape[1], 10))\n",
    "            network.append(Softmax())\n",
    "        elif(i == 1):\n",
    "            network = []\n",
    "            network.append(Dense(X_train.shape[1], hidden_layers_size))\n",
    "            network.append(ReLU())\n",
    "            network.append(Dense(hidden_layers_size, 10))\n",
    "            network.append(Softmax())\n",
    "        elif(i == 2):\n",
    "            network = []\n",
    "            network.append(Dense(X_train.shape[1], hidden_layers_size))\n",
    "            network.append(ReLU())\n",
    "            network.append(Dense(hidden_layers_size, hidden_layers_size))\n",
    "            network.append(ReLU())\n",
    "            network.append(Dense(hidden_layers_size, 10))\n",
    "            network.append(Softmax())\n",
    "        elif(i == 3):\n",
    "            network = []\n",
    "            network.append(Dense(X_train.shape[1], hidden_layers_size))\n",
    "            network.append(ReLU())\n",
    "            network.append(Dense(hidden_layers_size, hidden_layers_size))\n",
    "            network.append(ReLU())\n",
    "            network.append(Dense(hidden_layers_size, hidden_layers_size))\n",
    "            network.append(ReLU())\n",
    "            network.append(Dense(hidden_layers_size, 10))\n",
    "            network.append(Softmax())\n",
    "        elif(i == 4):\n",
    "            network = []\n",
    "            network.append(Dense(X_train.shape[1], hidden_layers_size))\n",
    "            network.append(ReLU())\n",
    "            network.append(Dense(hidden_layers_size, hidden_layers_size))\n",
    "            network.append(ReLU())\n",
    "            network.append(Dense(hidden_layers_size, hidden_layers_size))\n",
    "            network.append(ReLU())\n",
    "            network.append(Dense(hidden_layers_size, hidden_layers_size))\n",
    "            network.append(ReLU())\n",
    "            network.append(Dense(hidden_layers_size, 10))\n",
    "            network.append(Softmax())\n",
    "        weights = get_weights(network)\n",
    "        if(i < 2):\n",
    "            alpha = 0.1\n",
    "            max_iter = 3000\n",
    "            loss_step = 50\n",
    "        elif(i == 2):\n",
    "            alpha = 0.8\n",
    "            max_iter = 3000\n",
    "            loss_step = 200\n",
    "        elif(i == 3):\n",
    "            alpha = 0.8\n",
    "            max_iter = 5000\n",
    "            loss_step = 400\n",
    "        elif(i == 4):\n",
    "            alpha = 0.8\n",
    "            max_iter = 5000\n",
    "            loss_step = 350\n",
    "        weights = sgd_momentum(compute_loss_grad, weights, network, X_train, y_train_ohe,\n",
    "                               alpha=alpha, beta=0.01, max_iter=max_iter, loss_step=loss_step)\n",
    "        set_weights(weights, network)\n",
    "        y_pred = predict(network, X_train)\n",
    "        accs_train[i, j] = np.sum(y_pred == y_train) / np.size(y_train)\n",
    "        y_pred = predict(network, X_test)\n",
    "        accs_test[i, j] = np.sum(y_pred == y_test) / np.size(y_test)"
   ]
  },
  {
   "cell_type": "code",
   "execution_count": 73,
   "metadata": {},
   "outputs": [
    {
     "data": {
      "text/plain": [
       "array([[0.96666667, 0.95333333, 0.96444444, 0.95777778, 0.96444444],\n",
       "       [0.96666667, 0.96222222, 0.95777778, 0.96666667, 0.95555556],\n",
       "       [0.83111111, 0.96666667, 0.94      , 0.86      , 0.94666667],\n",
       "       [0.96444444, 0.96      , 0.96888889, 0.96444444, 0.95333333],\n",
       "       [0.94888889, 0.96222222, 0.94666667, 0.96222222, 0.95555556]])"
      ]
     },
     "execution_count": 73,
     "metadata": {},
     "output_type": "execute_result"
    }
   ],
   "source": [
    "accs_test"
   ]
  },
  {
   "cell_type": "code",
   "execution_count": 74,
   "metadata": {},
   "outputs": [
    {
     "data": {
      "text/plain": [
       "array([[0.98292502, 0.98144024, 0.97772829, 0.97847068, 0.97921307],\n",
       "       [0.98218263, 0.98589458, 0.98515219, 0.98663697, 0.98589458],\n",
       "       [0.88938382, 0.9925761 , 0.98737936, 0.90274684, 0.97847068],\n",
       "       [0.99925761, 0.99703044, 0.99777283, 0.99331849, 0.99777283],\n",
       "       [0.9918337 , 1.        , 0.99703044, 0.99628805, 0.99851522]])"
      ]
     },
     "execution_count": 74,
     "metadata": {},
     "output_type": "execute_result"
    }
   ],
   "source": [
    "accs_train"
   ]
  },
  {
   "cell_type": "markdown",
   "metadata": {},
   "source": [
    "Как известно, стохастический градиентный спуск не может сойтись полностью, тк даже в точке оптимума градиент не будет равен нулю, поэтому точность на обучающей выборке с очень маленькой вероятностью будет равна 1.0. Но он намного стабильнее метода L-BFGS-B, меньше зависит от начального приближения и при правильно подобранных параметрах alpha, beta, max_iter, loss_step позволяет добиться высокой точности на тестовой выборке, превышающей точность предыдущего метода, даже при большом количестве слоев нелинейности. Это может быть связано с тем, что использование инерции позволяет \"перескочить\" локальные минимумы функции потерь и при любом начальном приближении стремиться к глобальному оптимуму."
   ]
  },
  {
   "cell_type": "markdown",
   "metadata": {},
   "source": [
    "## Dropout (1 балл) \n",
    "\n",
    "Реализуйте слой Dropout. Сравните обучение сети из большого числа слоёв при использовании Dropout и без его использования (предварительно подберите адекватный параметр p). Сделайте выводы. Используя метод оптимизации из первого бонусного пункта. "
   ]
  },
  {
   "cell_type": "code",
   "execution_count": 26,
   "metadata": {},
   "outputs": [],
   "source": [
    "from scipy.stats import bernoulli"
   ]
  },
  {
   "cell_type": "code",
   "execution_count": 27,
   "metadata": {},
   "outputs": [],
   "source": [
    "class Dropout:\n",
    "    def __init__(self, p):\n",
    "        self.p = p\n",
    "        self.params = []\n",
    "\n",
    "    def forward(self, input):\n",
    "        self.bern_vec = bernoulli.rvs(p=1 - self.p, size=np.shape(input)).reshape(np.shape(input))\n",
    "        return input * self.bern_vec\n",
    "\n",
    "    def backward(self, grad_output):\n",
    "        return 1 / (1 - self.p) * self.bern_vec * grad_output, []"
   ]
  },
  {
   "cell_type": "markdown",
   "metadata": {},
   "source": [
    "Не удалось добиться улучшения качества при использовании слоя Dropout."
   ]
  },
  {
   "cell_type": "markdown",
   "metadata": {},
   "source": [
    "## BatchNormalization (1 балл)\n",
    "\n",
    "Реализуйте слой BatchNormalization. Сравните обучение сети из большого числа слоёв при использовании BatchNormalization и без его использования.  Сделайте выводы. Используя метод оптимизации из первого бонусного пункта. "
   ]
  },
  {
   "cell_type": "code",
   "execution_count": 55,
   "metadata": {},
   "outputs": [],
   "source": [
    "class BatchNormalization:\n",
    "    def __init__(self, input_size):\n",
    "        self.gamma = np.random.normal(loc=1, size=(input_size))\n",
    "        self.beta = np.random.normal(loc=0, size=(input_size))\n",
    "        self.params = [self.beta, self.gamma]\n",
    "        \n",
    "    def forward(self, input):\n",
    "        print('input', input)\n",
    "        self.mean = (1. / np.size(input, 0)) * np.sum(input, axis=0)\n",
    "        var = (1. / np.size(input, 0)) * np.sum((input - self.mean[np.newaxis, :]) ** 2, axis=0)\n",
    "        eps = 1e-8\n",
    "        self.div = 1. / np.sqrt(var + eps)\n",
    "        self.x_hat = (input - self.mean[np.newaxis, :]) * self.div[np.newaxis, :]\n",
    "        print('!!', self.x_hat)\n",
    "        return self.gamma[np.newaxis, :] * self.x_hat + self.beta[np.newaxis, :]\n",
    "    \n",
    "    def backward(self, grad_output):\n",
    "        d_loss_d_beta = np.sum(grad_output, axis=0)\n",
    "        d_loss_d_gamma = np.sum(grad_output * self.x_hat, axis=0)\n",
    "        d_loss_d_xhat = grad_output * self.gamma[np.newaxis, :]\n",
    "        N = np.size(grad_output, 0)\n",
    "        d_loss_d_input = (1. / N) * self.div * (N * d_loss_d_xhat - np.sum(d_loss_d_xhat, axis=0)[np.newaxis,:] - \n",
    "                                self.x_hat * np.sum(d_loss_d_xhat * self.x_hat, axis=0)[np.newaxis, :])\n",
    "        #d_loss_d_input = (1. / N) * self.div * self.gamma *(- d_loss_d_gamma * self.x_hat + \n",
    "        #                                N * grad_output - d_loss_d_beta)\n",
    "        return d_loss_d_input, np.r_[d_loss_d_beta.ravel(), d_loss_d_gamma.ravel()]"
   ]
  },
  {
   "cell_type": "code",
   "execution_count": 56,
   "metadata": {},
   "outputs": [
    {
     "name": "stdout",
     "output_type": "stream",
     "text": [
      "input [[-1.         -0.98319328 -0.96638655 -0.94957983 -0.93277311 -0.91596639\n",
      "  -0.89915966 -0.88235294 -0.86554622 -0.8487395  -0.83193277 -0.81512605]\n",
      " [-0.79831933 -0.78151261 -0.76470588 -0.74789916 -0.73109244 -0.71428571\n",
      "  -0.69747899 -0.68067227 -0.66386555 -0.64705882 -0.6302521  -0.61344538]\n",
      " [-0.59663866 -0.57983193 -0.56302521 -0.54621849 -0.52941176 -0.51260504\n",
      "  -0.49579832 -0.4789916  -0.46218487 -0.44537815 -0.42857143 -0.41176471]\n",
      " [-0.39495798 -0.37815126 -0.36134454 -0.34453782 -0.32773109 -0.31092437\n",
      "  -0.29411765 -0.27731092 -0.2605042  -0.24369748 -0.22689076 -0.21008403]\n",
      " [-0.19327731 -0.17647059 -0.15966387 -0.14285714 -0.12605042 -0.1092437\n",
      "  -0.09243697 -0.07563025 -0.05882353 -0.04201681 -0.02521008 -0.00840336]\n",
      " [ 0.00840336  0.02521008  0.04201681  0.05882353  0.07563025  0.09243697\n",
      "   0.1092437   0.12605042  0.14285714  0.15966387  0.17647059  0.19327731]\n",
      " [ 0.21008403  0.22689076  0.24369748  0.2605042   0.27731092  0.29411765\n",
      "   0.31092437  0.32773109  0.34453782  0.36134454  0.37815126  0.39495798]\n",
      " [ 0.41176471  0.42857143  0.44537815  0.46218487  0.4789916   0.49579832\n",
      "   0.51260504  0.52941176  0.54621849  0.56302521  0.57983193  0.59663866]\n",
      " [ 0.61344538  0.6302521   0.64705882  0.66386555  0.68067227  0.69747899\n",
      "   0.71428571  0.73109244  0.74789916  0.76470588  0.78151261  0.79831933]\n",
      " [ 0.81512605  0.83193277  0.8487395   0.86554622  0.88235294  0.89915966\n",
      "   0.91596639  0.93277311  0.94957983  0.96638655  0.98319328  1.        ]]\n",
      "!! [[-1.56669888 -1.56669888 -1.56669888 -1.56669888 -1.56669888 -1.56669888\n",
      "  -1.56669888 -1.56669888 -1.56669888 -1.56669888 -1.56669888 -1.56669888]\n",
      " [-1.21854357 -1.21854357 -1.21854357 -1.21854357 -1.21854357 -1.21854357\n",
      "  -1.21854357 -1.21854357 -1.21854357 -1.21854357 -1.21854357 -1.21854357]\n",
      " [-0.87038827 -0.87038827 -0.87038827 -0.87038827 -0.87038827 -0.87038827\n",
      "  -0.87038827 -0.87038827 -0.87038827 -0.87038827 -0.87038827 -0.87038827]\n",
      " [-0.52223296 -0.52223296 -0.52223296 -0.52223296 -0.52223296 -0.52223296\n",
      "  -0.52223296 -0.52223296 -0.52223296 -0.52223296 -0.52223296 -0.52223296]\n",
      " [-0.17407765 -0.17407765 -0.17407765 -0.17407765 -0.17407765 -0.17407765\n",
      "  -0.17407765 -0.17407765 -0.17407765 -0.17407765 -0.17407765 -0.17407765]\n",
      " [ 0.17407765  0.17407765  0.17407765  0.17407765  0.17407765  0.17407765\n",
      "   0.17407765  0.17407765  0.17407765  0.17407765  0.17407765  0.17407765]\n",
      " [ 0.52223296  0.52223296  0.52223296  0.52223296  0.52223296  0.52223296\n",
      "   0.52223296  0.52223296  0.52223296  0.52223296  0.52223296  0.52223296]\n",
      " [ 0.87038827  0.87038827  0.87038827  0.87038827  0.87038827  0.87038827\n",
      "   0.87038827  0.87038827  0.87038827  0.87038827  0.87038827  0.87038827]\n",
      " [ 1.21854357  1.21854357  1.21854357  1.21854357  1.21854357  1.21854357\n",
      "   1.21854357  1.21854357  1.21854357  1.21854357  1.21854357  1.21854357]\n",
      " [ 1.56669888  1.56669888  1.56669888  1.56669888  1.56669888  1.56669888\n",
      "   1.56669888  1.56669888  1.56669888  1.56669888  1.56669888  1.56669888]]\n"
     ]
    },
    {
     "ename": "AssertionError",
     "evalue": "",
     "output_type": "error",
     "traceback": [
      "\u001b[0;31m---------------------------------------------------------------------------\u001b[0m",
      "\u001b[0;31mAssertionError\u001b[0m                            Traceback (most recent call last)",
      "\u001b[0;32m<ipython-input-56-68b3caaf242a>\u001b[0m in \u001b[0;36m<module>\u001b[0;34m()\u001b[0m\n\u001b[1;32m     20\u001b[0m \u001b[0;31m#print(numeric_grads.shape)\u001b[0m\u001b[0;34m\u001b[0m\u001b[0;34m\u001b[0m\u001b[0m\n\u001b[1;32m     21\u001b[0m \u001b[0;34m\u001b[0m\u001b[0m\n\u001b[0;32m---> 22\u001b[0;31m \u001b[0;32massert\u001b[0m \u001b[0mnp\u001b[0m\u001b[0;34m.\u001b[0m\u001b[0mallclose\u001b[0m\u001b[0;34m(\u001b[0m\u001b[0mgrads\u001b[0m\u001b[0;34m,\u001b[0m \u001b[0mnumeric_grads\u001b[0m\u001b[0;34m,\u001b[0m \u001b[0mrtol\u001b[0m\u001b[0;34m=\u001b[0m\u001b[0;36m1e-3\u001b[0m\u001b[0;34m,\u001b[0m \u001b[0matol\u001b[0m\u001b[0;34m=\u001b[0m\u001b[0;36m0\u001b[0m\u001b[0;34m)\u001b[0m\u001b[0;34m\u001b[0m\u001b[0m\n\u001b[0m",
      "\u001b[0;31mAssertionError\u001b[0m: "
     ]
    }
   ],
   "source": [
    "x = np.linspace(-1, 1, 10*12).reshape([10, 12])\n",
    "bn = BatchNormalization(12)\n",
    "\n",
    "def func(x):\n",
    "    gamma = bn.gamma\n",
    "    beta = bn.beta\n",
    "    mean = (1. / np.size(x, 0)) * np.sum(x, axis=0)\n",
    "    div = (1. / np.size(x, 0)) * np.sum((x - mean[np.newaxis, :]) ** 2, axis=0)\n",
    "    x_hat = (x - mean[np.newaxis, :]) / (np.sqrt(div + 1e-8))[np.newaxis, :]\n",
    "    #print(x_hat)\n",
    "    return np.sum(gamma[np.newaxis, :] * x_hat + beta[np.newaxis, :])\n",
    "    \n",
    "d_loss_d_layer = np.ones((10, 12))\n",
    "bn.forward(x)\n",
    "grads = bn.backward(d_loss_d_layer)[0]\n",
    "#print(grads.shape)\n",
    "\n",
    "\n",
    "numeric_grads = eval_numerical_gradient(func, x)\n",
    "#print(numeric_grads.shape)\n",
    "\n",
    "assert np.allclose(grads, numeric_grads, rtol=1e-3, atol=0)"
   ]
  },
  {
   "cell_type": "markdown",
   "metadata": {},
   "source": [
    "Задание не доделано, неправильно вычислен градиент."
   ]
  },
  {
   "cell_type": "code",
   "execution_count": null,
   "metadata": {},
   "outputs": [],
   "source": []
  }
 ],
 "metadata": {
  "kernelspec": {
   "display_name": "Python 3",
   "language": "python",
   "name": "python3"
  },
  "language_info": {
   "codemirror_mode": {
    "name": "ipython",
    "version": 3
   },
   "file_extension": ".py",
   "mimetype": "text/x-python",
   "name": "python",
   "nbconvert_exporter": "python",
   "pygments_lexer": "ipython3",
   "version": "3.6.8"
  }
 },
 "nbformat": 4,
 "nbformat_minor": 2
}
